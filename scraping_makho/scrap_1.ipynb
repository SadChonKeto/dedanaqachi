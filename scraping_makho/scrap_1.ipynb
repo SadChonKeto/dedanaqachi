{
 "cells": [
  {
   "cell_type": "code",
   "execution_count": 27,
   "metadata": {},
   "outputs": [],
   "source": [
    "from tqdm import tqdm\n",
    "import requests\n",
    "from bs4 import BeautifulSoup\n",
    "import urllib3\n",
    "import ssl\n",
    "import requests.adapters\n",
    "import urllib3.poolmanager"
   ]
  },
  {
   "cell_type": "code",
   "execution_count": 28,
   "metadata": {},
   "outputs": [],
   "source": [
    "class CustomHttpAdapter(requests.adapters.HTTPAdapter):\n",
    "    # \"Transport adapter\" that allows us to use custom ssl_context.\n",
    "\n",
    "    def init(self, ssl_context=None, **kwargs):\n",
    "        self.ssl_context = ssl_context\n",
    "        super().init(**kwargs)\n",
    "\n",
    "    def init_poolmanager(self, connections, maxsize, block=False):\n",
    "        self.poolmanager = urllib3.poolmanager.PoolManager(\n",
    "            num_pools=connections, maxsize=maxsize,\n",
    "            block=block, ssl_context=self.ssl_context)\n",
    "\n",
    "\n",
    "def get_legacy_session():\n",
    "    ctx = ssl.create_default_context(ssl.Purpose.SERVER_AUTH)\n",
    "    ctx.options |= 0x4  # OP_LEGACY_SERVER_CONNECT\n",
    "    ctx.check_hostname = False\n",
    "    ctx.verify_mode = ssl.CERT_NONE\n",
    "    session = requests.session()\n",
    "    session.mount('https://', CustomHttpAdapter(ctx))\n",
    "    return session"
   ]
  },
  {
   "cell_type": "code",
   "execution_count": 29,
   "metadata": {},
   "outputs": [],
   "source": [
    "failed_attempts=[]"
   ]
  },
  {
   "cell_type": "code",
   "execution_count": 31,
   "metadata": {},
   "outputs": [
    {
     "name": "stderr",
     "output_type": "stream",
     "text": [
      "  0%|          | 0/5 [00:00<?, ?it/s]"
     ]
    },
    {
     "name": "stderr",
     "output_type": "stream",
     "text": [
      "100%|██████████| 5/5 [00:02<00:00,  2.47it/s]\n"
     ]
    }
   ],
   "source": [
    "urllib3.disable_warnings()\n",
    "\n",
    "session = requests.Session()\n",
    "headers_h = {\n",
    "    'user-agent': 'Mozilla/5.0 (Windows NT 10.0; Win64; x64) AppleWebKit/537.36 (KHTML, like Gecko) Chrome/124.0.0.0 Safari/537.36'\n",
    "}\n",
    "\n",
    "def link_getter(iter_obj):\n",
    "    visited_links = set()  # To keep track of visited links\n",
    "    with open('links.txt', 'a', encoding='utf-8') as file:\n",
    "        for i in tqdm(range(1, iter_obj+1)):\n",
    "            try:\n",
    "                \n",
    "                r = session.get(f'https://www.myhome.ge/ka/s/iyideba-bina-Tbilisshi/?deal_types=1&real_estate_types=1.2&cities=1&currency_id=1&CardView=1&page={i}', headers=headers_h, verify=False)\n",
    "                soup = BeautifulSoup(r.content, 'html.parser')\n",
    "                productlist = soup.find_all('div', class_='grid grid-cols-1 gap-5 md:grid-cols-2 lg:grid-cols-3 xl:grid-cols-4')\n",
    "                \n",
    "                for item in productlist:\n",
    "                    for link in item.find_all('a', href=True):\n",
    "                        link_href = link['href']\n",
    "                        if link_href not in visited_links:  # Check if the link is not already processed\n",
    "                            file.write(link_href + '\\n')\n",
    "                            visited_links.add(link_href)  # Add the link to the set of visited links\n",
    "            except Exception as e:\n",
    "                print(f\"Failed to retrieve links from page {i}: {e}\")\n",
    "                failed_attempts.append(i)\n",
    "\n",
    "link_getter(5)"
   ]
  },
  {
   "cell_type": "code",
   "execution_count": null,
   "metadata": {},
   "outputs": [],
   "source": [
    "print(visited_links)"
   ]
  }
 ],
 "metadata": {
  "kernelspec": {
   "display_name": "base",
   "language": "python",
   "name": "python3"
  },
  "language_info": {
   "codemirror_mode": {
    "name": "ipython",
    "version": 3
   },
   "file_extension": ".py",
   "mimetype": "text/x-python",
   "name": "python",
   "nbconvert_exporter": "python",
   "pygments_lexer": "ipython3",
   "version": "3.11.5"
  }
 },
 "nbformat": 4,
 "nbformat_minor": 2
}
